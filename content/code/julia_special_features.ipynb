{
 "cells": [
  {
   "cell_type": "markdown",
   "id": "40d1fde4",
   "metadata": {},
   "source": [
    "## Type System"
   ]
  },
  {
   "cell_type": "code",
   "execution_count": 2,
   "id": "45d7fa25",
   "metadata": {},
   "outputs": [
    {
     "data": {
      "text/plain": [
       "1"
      ]
     },
     "execution_count": 2,
     "metadata": {},
     "output_type": "execute_result"
    }
   ],
   "source": [
    "1"
   ]
  },
  {
   "cell_type": "code",
   "execution_count": 3,
   "id": "41a49b9f",
   "metadata": {},
   "outputs": [
    {
     "data": {
      "text/plain": [
       "Int64"
      ]
     },
     "execution_count": 3,
     "metadata": {},
     "output_type": "execute_result"
    }
   ],
   "source": [
    "typeof(1)"
   ]
  },
  {
   "cell_type": "code",
   "execution_count": 5,
   "id": "bd99cddc",
   "metadata": {},
   "outputs": [
    {
     "data": {
      "text/plain": [
       "Vector{Int64}\u001b[90m (alias for \u001b[39m\u001b[90mArray{Int64, 1}\u001b[39m\u001b[90m)\u001b[39m"
      ]
     },
     "execution_count": 5,
     "metadata": {},
     "output_type": "execute_result"
    }
   ],
   "source": [
    "typeof([1, 2, 3])"
   ]
  },
  {
   "cell_type": "code",
   "execution_count": 6,
   "id": "35ce43ba",
   "metadata": {},
   "outputs": [
    {
     "data": {
      "text/plain": [
       "DataType"
      ]
     },
     "execution_count": 6,
     "metadata": {},
     "output_type": "execute_result"
    }
   ],
   "source": [
    "typeof(Int)"
   ]
  },
  {
   "cell_type": "code",
   "execution_count": 7,
   "id": "23af63b1",
   "metadata": {},
   "outputs": [
    {
     "data": {
      "text/plain": [
       "DataType"
      ]
     },
     "execution_count": 7,
     "metadata": {},
     "output_type": "execute_result"
    }
   ],
   "source": [
    "typeof(DataType)"
   ]
  },
  {
   "cell_type": "code",
   "execution_count": 8,
   "id": "9dd7f0c2",
   "metadata": {},
   "outputs": [
    {
     "data": {
      "text/plain": [
       "typeof(sin) (singleton type of function sin, subtype of Function)"
      ]
     },
     "execution_count": 8,
     "metadata": {},
     "output_type": "execute_result"
    }
   ],
   "source": [
    "typeof(sin)"
   ]
  },
  {
   "cell_type": "code",
   "execution_count": 9,
   "id": "abfefebe",
   "metadata": {},
   "outputs": [
    {
     "data": {
      "text/plain": [
       "true"
      ]
     },
     "execution_count": 9,
     "metadata": {},
     "output_type": "execute_result"
    }
   ],
   "source": [
    "typeof(sin) <: Function"
   ]
  },
  {
   "cell_type": "code",
   "execution_count": 11,
   "id": "e340eb84",
   "metadata": {},
   "outputs": [
    {
     "data": {
      "text/plain": [
       "650-element Vector{Any}:\n",
       " AbstractArray\n",
       " AbstractChannel\n",
       " AbstractChar\n",
       " AbstractDict\n",
       " AbstractDisplay\n",
       " AbstractMatch\n",
       " AbstractPattern\n",
       " AbstractSet\n",
       " AbstractString\n",
       " Any\n",
       " Base.AbstractBroadcasted\n",
       " Base.AbstractCartesianIndex\n",
       " Base.AbstractCmd\n",
       " ⋮\n",
       " Tokenize.Tokens.AbstractToken\n",
       " Tuple\n",
       " Type\n",
       " TypeVar\n",
       " UndefInitializer\n",
       " Val\n",
       " VecElement\n",
       " VersionNumber\n",
       " WeakRef\n",
       " ZMQ.Context\n",
       " ZMQ.Socket\n",
       " ZMQ._Message"
      ]
     },
     "execution_count": 11,
     "metadata": {},
     "output_type": "execute_result"
    }
   ],
   "source": [
    "subtypes(Any)"
   ]
  },
  {
   "cell_type": "code",
   "execution_count": 13,
   "id": "06691d97",
   "metadata": {},
   "outputs": [
    {
     "data": {
      "text/plain": [
       "Signed"
      ]
     },
     "execution_count": 13,
     "metadata": {},
     "output_type": "execute_result"
    }
   ],
   "source": [
    "supertype(Int) # Int == Int64 on 64 bits machine, Int == Int32 on 32 bits machine"
   ]
  },
  {
   "cell_type": "code",
   "execution_count": 14,
   "id": "cb9d8935",
   "metadata": {},
   "outputs": [
    {
     "data": {
      "text/plain": [
       "Integer"
      ]
     },
     "execution_count": 14,
     "metadata": {},
     "output_type": "execute_result"
    }
   ],
   "source": [
    "supertype(Signed)"
   ]
  },
  {
   "cell_type": "code",
   "execution_count": 15,
   "id": "600e3096",
   "metadata": {},
   "outputs": [
    {
     "data": {
      "text/plain": [
       "Real"
      ]
     },
     "execution_count": 15,
     "metadata": {},
     "output_type": "execute_result"
    }
   ],
   "source": [
    "supertype(Integer)"
   ]
  },
  {
   "cell_type": "code",
   "execution_count": 16,
   "id": "58df5567",
   "metadata": {},
   "outputs": [
    {
     "data": {
      "text/plain": [
       "Number"
      ]
     },
     "execution_count": 16,
     "metadata": {},
     "output_type": "execute_result"
    }
   ],
   "source": [
    "supertype(Real)"
   ]
  },
  {
   "cell_type": "code",
   "execution_count": 17,
   "id": "735ac0d2",
   "metadata": {},
   "outputs": [
    {
     "data": {
      "text/plain": [
       "2-element Vector{Any}:\n",
       " Complex\n",
       " Real"
      ]
     },
     "execution_count": 17,
     "metadata": {},
     "output_type": "execute_result"
    }
   ],
   "source": [
    "subtypes(Number)"
   ]
  },
  {
   "cell_type": "code",
   "execution_count": 18,
   "id": "25e92ae2",
   "metadata": {},
   "outputs": [
    {
     "data": {
      "text/plain": [
       "4-element Vector{Any}:\n",
       " AbstractFloat\n",
       " AbstractIrrational\n",
       " Integer\n",
       " Rational"
      ]
     },
     "execution_count": 18,
     "metadata": {},
     "output_type": "execute_result"
    }
   ],
   "source": [
    "subtypes(Real)"
   ]
  },
  {
   "cell_type": "code",
   "execution_count": 19,
   "id": "29601abe",
   "metadata": {},
   "outputs": [
    {
     "data": {
      "text/plain": [
       "3-element Vector{Any}:\n",
       " Bool\n",
       " Signed\n",
       " Unsigned"
      ]
     },
     "execution_count": 19,
     "metadata": {},
     "output_type": "execute_result"
    }
   ],
   "source": [
    "subtypes(Integer)"
   ]
  },
  {
   "cell_type": "code",
   "execution_count": 20,
   "id": "be03776c",
   "metadata": {},
   "outputs": [
    {
     "data": {
      "text/plain": [
       "6-element Vector{Any}:\n",
       " BigInt\n",
       " Int128\n",
       " Int16\n",
       " Int32\n",
       " Int64\n",
       " Int8"
      ]
     },
     "execution_count": 20,
     "metadata": {},
     "output_type": "execute_result"
    }
   ],
   "source": [
    "subtypes(Signed)"
   ]
  },
  {
   "cell_type": "code",
   "execution_count": 22,
   "id": "17400255",
   "metadata": {},
   "outputs": [
    {
     "data": {
      "text/plain": [
       "true"
      ]
     },
     "execution_count": 22,
     "metadata": {},
     "output_type": "execute_result"
    }
   ],
   "source": [
    "Integer <: Real"
   ]
  },
  {
   "cell_type": "code",
   "execution_count": 23,
   "id": "aa497282",
   "metadata": {},
   "outputs": [
    {
     "data": {
      "text/plain": [
       "true"
      ]
     },
     "execution_count": 23,
     "metadata": {},
     "output_type": "execute_result"
    }
   ],
   "source": [
    "1 isa Int"
   ]
  },
  {
   "cell_type": "code",
   "execution_count": 24,
   "id": "1dd25933",
   "metadata": {},
   "outputs": [
    {
     "data": {
      "text/plain": [
       "true"
      ]
     },
     "execution_count": 24,
     "metadata": {},
     "output_type": "execute_result"
    }
   ],
   "source": [
    "1 isa Integer"
   ]
  },
  {
   "cell_type": "code",
   "execution_count": 25,
   "id": "7a1625d9",
   "metadata": {},
   "outputs": [],
   "source": [
    "struct Pointa\n",
    "    x\n",
    "    y\n",
    "end"
   ]
  },
  {
   "cell_type": "code",
   "execution_count": 26,
   "id": "f99f2023",
   "metadata": {},
   "outputs": [
    {
     "data": {
      "text/plain": [
       "Pointa(1, 2)"
      ]
     },
     "execution_count": 26,
     "metadata": {},
     "output_type": "execute_result"
    }
   ],
   "source": [
    "p = Pointa(1, 2)"
   ]
  },
  {
   "cell_type": "code",
   "execution_count": 27,
   "id": "9129c523",
   "metadata": {},
   "outputs": [
    {
     "data": {
      "text/plain": [
       "Pointa(\"potato\", \"banana\")"
      ]
     },
     "execution_count": 27,
     "metadata": {},
     "output_type": "execute_result"
    }
   ],
   "source": [
    "p = Pointa(\"potato\", \"banana\")"
   ]
  },
  {
   "cell_type": "code",
   "execution_count": 28,
   "id": "81a4494a",
   "metadata": {},
   "outputs": [
    {
     "data": {
      "text/plain": [
       "Pointa(\"hi\", 4)"
      ]
     },
     "execution_count": 28,
     "metadata": {},
     "output_type": "execute_result"
    }
   ],
   "source": [
    "Pointa(\"hi\", 4)"
   ]
  },
  {
   "cell_type": "code",
   "execution_count": 30,
   "id": "4acb349e",
   "metadata": {},
   "outputs": [],
   "source": [
    "struct Pointb\n",
    "    x::Real\n",
    "    y::Real\n",
    "end"
   ]
  },
  {
   "cell_type": "code",
   "execution_count": 34,
   "id": "f6a0a558",
   "metadata": {},
   "outputs": [
    {
     "data": {
      "text/plain": [
       "Pointb(1, 2)"
      ]
     },
     "execution_count": 34,
     "metadata": {},
     "output_type": "execute_result"
    }
   ],
   "source": [
    "Pointb(1, 2)"
   ]
  },
  {
   "cell_type": "code",
   "execution_count": 35,
   "id": "19ae8d56",
   "metadata": {},
   "outputs": [
    {
     "ename": "LoadError",
     "evalue": "MethodError: \u001b[0mCannot `convert` an object of type \u001b[92mString\u001b[39m\u001b[0m to an object of type \u001b[91mReal\u001b[39m\n\u001b[0mClosest candidates are:\n\u001b[0m  convert(::Type{T}, \u001b[91m::T\u001b[39m) where T<:Number at number.jl:6\n\u001b[0m  convert(::Type{T}, \u001b[91m::Number\u001b[39m) where T<:Number at number.jl:7\n\u001b[0m  convert(::Type{T}, \u001b[91m::Base.TwicePrecision\u001b[39m) where T<:Number at twiceprecision.jl:273\n\u001b[0m  ...",
     "output_type": "error",
     "traceback": [
      "MethodError: \u001b[0mCannot `convert` an object of type \u001b[92mString\u001b[39m\u001b[0m to an object of type \u001b[91mReal\u001b[39m\n\u001b[0mClosest candidates are:\n\u001b[0m  convert(::Type{T}, \u001b[91m::T\u001b[39m) where T<:Number at number.jl:6\n\u001b[0m  convert(::Type{T}, \u001b[91m::Number\u001b[39m) where T<:Number at number.jl:7\n\u001b[0m  convert(::Type{T}, \u001b[91m::Base.TwicePrecision\u001b[39m) where T<:Number at twiceprecision.jl:273\n\u001b[0m  ...",
      "",
      "Stacktrace:",
      " [1] Pointb(x::String, y::String)",
      "   @ Main ./In[30]:2",
      " [2] top-level scope",
      "   @ In[35]:1",
      " [3] eval",
      "   @ ./boot.jl:368 [inlined]",
      " [4] include_string(mapexpr::typeof(REPL.softscope), mod::Module, code::String, filename::String)",
      "   @ Base ./loading.jl:1428"
     ]
    }
   ],
   "source": [
    "Pointb(\"banana\", \"potato\")"
   ]
  },
  {
   "cell_type": "code",
   "execution_count": 36,
   "id": "bca5d346",
   "metadata": {},
   "outputs": [],
   "source": [
    "struct Pointc\n",
    "    x::Float64\n",
    "    y::Float64\n",
    "end"
   ]
  },
  {
   "cell_type": "code",
   "execution_count": 37,
   "id": "b5ddc0f3",
   "metadata": {},
   "outputs": [
    {
     "data": {
      "text/plain": [
       "Pointc(1.0, 2.0)"
      ]
     },
     "execution_count": 37,
     "metadata": {},
     "output_type": "execute_result"
    }
   ],
   "source": [
    "Pointc(1.0, 2.0)"
   ]
  },
  {
   "cell_type": "code",
   "execution_count": 38,
   "id": "92aabfbe",
   "metadata": {},
   "outputs": [
    {
     "data": {
      "text/plain": [
       "Pointc(1.0, 2.0)"
      ]
     },
     "execution_count": 38,
     "metadata": {},
     "output_type": "execute_result"
    }
   ],
   "source": [
    "Pointc(1, 2)"
   ]
  },
  {
   "cell_type": "code",
   "execution_count": 39,
   "id": "8bb80154",
   "metadata": {},
   "outputs": [],
   "source": [
    "struct Pointd{T}\n",
    "    x::T\n",
    "    y::T\n",
    "end"
   ]
  },
  {
   "cell_type": "code",
   "execution_count": 40,
   "id": "ab1dcd34",
   "metadata": {},
   "outputs": [
    {
     "data": {
      "text/plain": [
       "false"
      ]
     },
     "execution_count": 40,
     "metadata": {},
     "output_type": "execute_result"
    }
   ],
   "source": [
    "isabstracttype(Pointd)"
   ]
  },
  {
   "cell_type": "code",
   "execution_count": 41,
   "id": "3248d1aa",
   "metadata": {},
   "outputs": [
    {
     "data": {
      "text/plain": [
       "false"
      ]
     },
     "execution_count": 41,
     "metadata": {},
     "output_type": "execute_result"
    }
   ],
   "source": [
    "isconcretetype(Pointd)"
   ]
  },
  {
   "cell_type": "code",
   "execution_count": 42,
   "id": "92ce5e72",
   "metadata": {},
   "outputs": [
    {
     "data": {
      "text/plain": [
       "Pointd{Int64}(1, 2)"
      ]
     },
     "execution_count": 42,
     "metadata": {},
     "output_type": "execute_result"
    }
   ],
   "source": [
    "Pointd(1, 2)"
   ]
  },
  {
   "cell_type": "code",
   "execution_count": 43,
   "id": "8f577c4c",
   "metadata": {},
   "outputs": [
    {
     "data": {
      "text/plain": [
       "Pointd{Float64}(1.0, 2.0)"
      ]
     },
     "execution_count": 43,
     "metadata": {},
     "output_type": "execute_result"
    }
   ],
   "source": [
    "Pointd(1.0, 2.0)"
   ]
  },
  {
   "cell_type": "code",
   "execution_count": 44,
   "id": "eb383235",
   "metadata": {},
   "outputs": [
    {
     "data": {
      "text/plain": [
       "Pointd{String}(\"potato\", \"banana\")"
      ]
     },
     "execution_count": 44,
     "metadata": {},
     "output_type": "execute_result"
    }
   ],
   "source": [
    "Pointd(\"potato\", \"banana\")"
   ]
  },
  {
   "cell_type": "code",
   "execution_count": 45,
   "id": "2bbbf1d7",
   "metadata": {},
   "outputs": [
    {
     "ename": "LoadError",
     "evalue": "MethodError: no method matching Pointd(::Int64, ::Float64)\n\u001b[0mClosest candidates are:\n\u001b[0m  Pointd(::T, \u001b[91m::T\u001b[39m) where T at In[39]:2",
     "output_type": "error",
     "traceback": [
      "MethodError: no method matching Pointd(::Int64, ::Float64)\n\u001b[0mClosest candidates are:\n\u001b[0m  Pointd(::T, \u001b[91m::T\u001b[39m) where T at In[39]:2",
      "",
      "Stacktrace:",
      " [1] top-level scope",
      "   @ In[45]:1",
      " [2] eval",
      "   @ ./boot.jl:368 [inlined]",
      " [3] include_string(mapexpr::typeof(REPL.softscope), mod::Module, code::String, filename::String)",
      "   @ Base ./loading.jl:1428"
     ]
    }
   ],
   "source": [
    "Pointd(4, 1.0)"
   ]
  },
  {
   "cell_type": "code",
   "execution_count": 46,
   "id": "1c4e41d3",
   "metadata": {},
   "outputs": [
    {
     "data": {
      "text/plain": [
       "Pointd{Float64}(4.0, 1.0)"
      ]
     },
     "execution_count": 46,
     "metadata": {},
     "output_type": "execute_result"
    }
   ],
   "source": [
    "Pointd{Float64}(4, 1.0)"
   ]
  },
  {
   "cell_type": "code",
   "execution_count": 49,
   "id": "fe5ef660",
   "metadata": {},
   "outputs": [],
   "source": [
    "struct Point{T<:Real}\n",
    "    x::T\n",
    "    y::T\n",
    "end"
   ]
  },
  {
   "cell_type": "code",
   "execution_count": 50,
   "id": "58d2b658",
   "metadata": {},
   "outputs": [
    {
     "data": {
      "text/plain": [
       "Point{Int64}(1, 2)"
      ]
     },
     "execution_count": 50,
     "metadata": {},
     "output_type": "execute_result"
    }
   ],
   "source": [
    "Point(1, 2)"
   ]
  },
  {
   "cell_type": "code",
   "execution_count": 51,
   "id": "93de52d1",
   "metadata": {},
   "outputs": [
    {
     "ename": "LoadError",
     "evalue": "MethodError: no method matching Point(::String, ::String)",
     "output_type": "error",
     "traceback": [
      "MethodError: no method matching Point(::String, ::String)",
      "",
      "Stacktrace:",
      " [1] top-level scope",
      "   @ In[51]:1",
      " [2] eval",
      "   @ ./boot.jl:368 [inlined]",
      " [3] include_string(mapexpr::typeof(REPL.softscope), mod::Module, code::String, filename::String)",
      "   @ Base ./loading.jl:1428"
     ]
    }
   ],
   "source": [
    "Point(\"hi\", \"there\")"
   ]
  },
  {
   "cell_type": "code",
   "execution_count": 52,
   "id": "1e3aea55",
   "metadata": {},
   "outputs": [
    {
     "ename": "LoadError",
     "evalue": "MethodError: no method matching Point(::Int64, ::Float64)\n\u001b[0mClosest candidates are:\n\u001b[0m  Point(::T, \u001b[91m::T\u001b[39m) where T<:Real at In[49]:2",
     "output_type": "error",
     "traceback": [
      "MethodError: no method matching Point(::Int64, ::Float64)\n\u001b[0mClosest candidates are:\n\u001b[0m  Point(::T, \u001b[91m::T\u001b[39m) where T<:Real at In[49]:2",
      "",
      "Stacktrace:",
      " [1] top-level scope",
      "   @ In[52]:1",
      " [2] eval",
      "   @ ./boot.jl:368 [inlined]",
      " [3] include_string(mapexpr::typeof(REPL.softscope), mod::Module, code::String, filename::String)",
      "   @ Base ./loading.jl:1428"
     ]
    }
   ],
   "source": [
    "Point(1, 2.0)"
   ]
  },
  {
   "cell_type": "code",
   "execution_count": 57,
   "id": "014cff0f",
   "metadata": {},
   "outputs": [
    {
     "data": {
      "text/plain": [
       "(1.0, 2.0)"
      ]
     },
     "execution_count": 57,
     "metadata": {},
     "output_type": "execute_result"
    }
   ],
   "source": [
    "promote(1, 2.0)"
   ]
  },
  {
   "cell_type": "code",
   "execution_count": 58,
   "id": "669e5762",
   "metadata": {},
   "outputs": [
    {
     "data": {
      "text/plain": [
       "Point"
      ]
     },
     "execution_count": 58,
     "metadata": {},
     "output_type": "execute_result"
    }
   ],
   "source": [
    "function Point(x, y)\n",
    "    return Point(promote(x, y)...)\n",
    "end"
   ]
  },
  {
   "cell_type": "code",
   "execution_count": 59,
   "id": "c2ffd34e",
   "metadata": {},
   "outputs": [
    {
     "data": {
      "text/plain": [
       "Point{Float64}(1.0, 2.0)"
      ]
     },
     "execution_count": 59,
     "metadata": {},
     "output_type": "execute_result"
    }
   ],
   "source": [
    "Point(1, 2.0)"
   ]
  },
  {
   "cell_type": "code",
   "execution_count": 62,
   "id": "44c70f67",
   "metadata": {},
   "outputs": [],
   "source": [
    "struct PointInner{T<:Real}\n",
    "    x::T\n",
    "    y::T\n",
    "    # ∀ T : Real, S : Real , Point(x::T, y::S)\n",
    "    function PointInner(x::T, y::S) where {T<:Real, S<:Real}\n",
    "        TS = promote_type(T, S)\n",
    "        new{TS}(x, y)\n",
    "    end\n",
    "end"
   ]
  },
  {
   "cell_type": "code",
   "execution_count": 63,
   "id": "49a23a96",
   "metadata": {},
   "outputs": [
    {
     "data": {
      "text/plain": [
       "PointInner{Float64}(1.0, 2.0)"
      ]
     },
     "execution_count": 63,
     "metadata": {},
     "output_type": "execute_result"
    }
   ],
   "source": [
    "PointInner(1, 2.0)"
   ]
  },
  {
   "cell_type": "markdown",
   "id": "1f8efbb2",
   "metadata": {},
   "source": [
    "## Methods and Multiple Dispatch"
   ]
  },
  {
   "cell_type": "code",
   "execution_count": 69,
   "id": "024c7a4b",
   "metadata": {},
   "outputs": [
    {
     "data": {
      "text/plain": [
       "f (generic function with 1 method)"
      ]
     },
     "execution_count": 69,
     "metadata": {},
     "output_type": "execute_result"
    }
   ],
   "source": [
    "function f(a, b) # (Any, Any)\n",
    "    return a + b\n",
    "end"
   ]
  },
  {
   "cell_type": "code",
   "execution_count": null,
   "id": "21c5d87d",
   "metadata": {},
   "outputs": [],
   "source": [
    "f(1, 2)"
   ]
  },
  {
   "cell_type": "code",
   "execution_count": 70,
   "id": "84e57f62",
   "metadata": {},
   "outputs": [
    {
     "data": {
      "text/html": [
       "# 1 method for generic function <b>f</b>:<ul><li> f(a, b) in Main at In[69]:1</li> </ul>"
      ],
      "text/plain": [
       "# 1 method for generic function \"f\":\n",
       "[1] f(a, b) in Main at In[69]:1"
      ]
     },
     "execution_count": 70,
     "metadata": {},
     "output_type": "execute_result"
    }
   ],
   "source": [
    "methods(f)"
   ]
  },
  {
   "cell_type": "code",
   "execution_count": 71,
   "id": "ccc6387c",
   "metadata": {},
   "outputs": [
    {
     "data": {
      "text/plain": [
       "f (generic function with 2 methods)"
      ]
     },
     "execution_count": 71,
     "metadata": {},
     "output_type": "execute_result"
    }
   ],
   "source": [
    "function f(a::String, b::String)\n",
    "    return a * b\n",
    "end"
   ]
  },
  {
   "cell_type": "code",
   "execution_count": 72,
   "id": "8eeb3f2a",
   "metadata": {},
   "outputs": [
    {
     "data": {
      "text/html": [
       "# 2 methods for generic function <b>f</b>:<ul><li> f(a::<b>String</b>, b::<b>String</b>) in Main at In[71]:1</li> <li> f(a, b) in Main at In[69]:1</li> </ul>"
      ],
      "text/plain": [
       "# 2 methods for generic function \"f\":\n",
       "[1] f(a::String, b::String) in Main at In[71]:1\n",
       "[2] f(a, b) in Main at In[69]:1"
      ]
     },
     "execution_count": 72,
     "metadata": {},
     "output_type": "execute_result"
    }
   ],
   "source": [
    "methods(f)"
   ]
  },
  {
   "cell_type": "code",
   "execution_count": 73,
   "id": "923f8711",
   "metadata": {},
   "outputs": [
    {
     "data": {
      "text/plain": [
       "g (generic function with 1 method)"
      ]
     },
     "execution_count": 73,
     "metadata": {},
     "output_type": "execute_result"
    }
   ],
   "source": [
    "g(x::Number, y::Int) = print(\"The second is an integer\")"
   ]
  },
  {
   "cell_type": "code",
   "execution_count": 74,
   "id": "ea2579ed",
   "metadata": {},
   "outputs": [
    {
     "data": {
      "text/plain": [
       "g (generic function with 2 methods)"
      ]
     },
     "execution_count": 74,
     "metadata": {},
     "output_type": "execute_result"
    }
   ],
   "source": [
    "g(x::Int, y::Number) = print(\"The first is an integer\")"
   ]
  },
  {
   "cell_type": "code",
   "execution_count": 75,
   "id": "2a842d38",
   "metadata": {},
   "outputs": [
    {
     "data": {
      "text/html": [
       "# 2 methods for generic function <b>g</b>:<ul><li> g(x::<b>Number</b>, y::<b>Int64</b>) in Main at In[73]:1</li> <li> g(x::<b>Int64</b>, y::<b>Number</b>) in Main at In[74]:1</li> </ul>"
      ],
      "text/plain": [
       "# 2 methods for generic function \"g\":\n",
       "[1] g(x::Number, y::Int64) in Main at In[73]:1\n",
       "[2] g(x::Int64, y::Number) in Main at In[74]:1"
      ]
     },
     "execution_count": 75,
     "metadata": {},
     "output_type": "execute_result"
    }
   ],
   "source": [
    "methods(g)"
   ]
  },
  {
   "cell_type": "code",
   "execution_count": 76,
   "id": "6dc92de4",
   "metadata": {},
   "outputs": [
    {
     "name": "stdout",
     "output_type": "stream",
     "text": [
      "The first is an integer"
     ]
    }
   ],
   "source": [
    "g(1, 1.0)"
   ]
  },
  {
   "cell_type": "code",
   "execution_count": 77,
   "id": "9a034dc1",
   "metadata": {},
   "outputs": [
    {
     "name": "stdout",
     "output_type": "stream",
     "text": [
      "The second is an integer"
     ]
    }
   ],
   "source": [
    "g(1.0, 1)"
   ]
  },
  {
   "cell_type": "code",
   "execution_count": 79,
   "id": "a82ab177",
   "metadata": {},
   "outputs": [
    {
     "data": {
      "text/plain": [
       "g (generic function with 3 methods)"
      ]
     },
     "execution_count": 79,
     "metadata": {},
     "output_type": "execute_result"
    }
   ],
   "source": [
    "g(x::Int, y::Int) = print(\"boht are integers\")"
   ]
  },
  {
   "cell_type": "code",
   "execution_count": 80,
   "id": "418b4a06",
   "metadata": {},
   "outputs": [
    {
     "name": "stdout",
     "output_type": "stream",
     "text": [
      "boht are integers"
     ]
    }
   ],
   "source": [
    "g(1, 1)"
   ]
  },
  {
   "cell_type": "code",
   "execution_count": 81,
   "id": "f5116ce5",
   "metadata": {},
   "outputs": [
    {
     "data": {
      "text/plain": [
       "g (generic function with 3 methods)"
      ]
     },
     "execution_count": 81,
     "metadata": {},
     "output_type": "execute_result"
    }
   ],
   "source": [
    "g(x::Int, y::Int) = print(\"both are integers\")"
   ]
  },
  {
   "cell_type": "code",
   "execution_count": 82,
   "id": "4cb5808f",
   "metadata": {},
   "outputs": [
    {
     "name": "stdout",
     "output_type": "stream",
     "text": [
      "both are integers"
     ]
    }
   ],
   "source": [
    "g(1, 1)"
   ]
  },
  {
   "cell_type": "markdown",
   "id": "21f7d475",
   "metadata": {},
   "source": [
    "relu(x) = max(x, 0)"
   ]
  },
  {
   "cell_type": "code",
   "execution_count": 94,
   "id": "06bb6554",
   "metadata": {},
   "outputs": [
    {
     "data": {
      "text/plain": [
       "relu_unstable (generic function with 1 method)"
      ]
     },
     "execution_count": 94,
     "metadata": {},
     "output_type": "execute_result"
    }
   ],
   "source": [
    "function relu_unstable(x::T)::T where {T}\n",
    "    if x > 0\n",
    "        return x\n",
    "    else\n",
    "        return 0\n",
    "    end\n",
    "end"
   ]
  },
  {
   "cell_type": "code",
   "execution_count": null,
   "id": "d59a9883",
   "metadata": {},
   "outputs": [],
   "source": []
  },
  {
   "cell_type": "code",
   "execution_count": null,
   "id": "c70b2f44",
   "metadata": {},
   "outputs": [],
   "source": []
  },
  {
   "cell_type": "code",
   "execution_count": 95,
   "id": "1b5570b4",
   "metadata": {},
   "outputs": [
    {
     "data": {
      "text/plain": [
       "0.0"
      ]
     },
     "execution_count": 95,
     "metadata": {},
     "output_type": "execute_result"
    }
   ],
   "source": [
    "relu_unstable(-1.0)"
   ]
  },
  {
   "cell_type": "code",
   "execution_count": 96,
   "id": "51e93caa",
   "metadata": {},
   "outputs": [
    {
     "data": {
      "text/plain": [
       "0"
      ]
     },
     "execution_count": 96,
     "metadata": {},
     "output_type": "execute_result"
    }
   ],
   "source": [
    "relu_unstable(-1)"
   ]
  },
  {
   "cell_type": "code",
   "execution_count": 97,
   "id": "ac09d512",
   "metadata": {},
   "outputs": [
    {
     "data": {
      "text/plain": [
       "missing"
      ]
     },
     "execution_count": 97,
     "metadata": {},
     "output_type": "execute_result"
    }
   ],
   "source": [
    "missing"
   ]
  },
  {
   "cell_type": "code",
   "execution_count": 99,
   "id": "6078f973",
   "metadata": {},
   "outputs": [
    {
     "data": {
      "text/plain": [
       "Missing"
      ]
     },
     "execution_count": 99,
     "metadata": {},
     "output_type": "execute_result"
    }
   ],
   "source": [
    "typeof(missing)"
   ]
  },
  {
   "cell_type": "code",
   "execution_count": null,
   "id": "0db4a24b",
   "metadata": {},
   "outputs": [],
   "source": [
    "Union{Float64, Missing}"
   ]
  },
  {
   "cell_type": "code",
   "execution_count": 84,
   "id": "046cd400",
   "metadata": {},
   "outputs": [
    {
     "data": {
      "text/plain": [
       "1"
      ]
     },
     "execution_count": 84,
     "metadata": {},
     "output_type": "execute_result"
    }
   ],
   "source": [
    "relu_unstable(1)"
   ]
  },
  {
   "cell_type": "code",
   "execution_count": 85,
   "id": "0d3a7e6b",
   "metadata": {},
   "outputs": [
    {
     "data": {
      "text/plain": [
       "0"
      ]
     },
     "execution_count": 85,
     "metadata": {},
     "output_type": "execute_result"
    }
   ],
   "source": [
    "relu_unstable(-3)"
   ]
  },
  {
   "cell_type": "code",
   "execution_count": 86,
   "id": "532e7b5f",
   "metadata": {},
   "outputs": [
    {
     "name": "stdout",
     "output_type": "stream",
     "text": [
      "MethodInstance for relu_unstable(::Int64)\n",
      "  from relu_unstable(x) in Main at In[83]:1\n",
      "Arguments\n",
      "  #self#\u001b[36m::Core.Const(relu_unstable)\u001b[39m\n",
      "  x\u001b[36m::Int64\u001b[39m\n",
      "Body\u001b[36m::Int64\u001b[39m\n",
      "\u001b[90m1 ─\u001b[39m %1 = (x > 0)\u001b[36m::Bool\u001b[39m\n",
      "\u001b[90m└──\u001b[39m      goto #3 if not %1\n",
      "\u001b[90m2 ─\u001b[39m      return x\n",
      "\u001b[90m3 ─\u001b[39m      return 0\n",
      "\n"
     ]
    }
   ],
   "source": [
    "@code_warntype relu_unstable(1)"
   ]
  },
  {
   "cell_type": "code",
   "execution_count": 87,
   "id": "92f9c404",
   "metadata": {},
   "outputs": [
    {
     "name": "stdout",
     "output_type": "stream",
     "text": [
      "MethodInstance for relu_unstable(::Float64)\n",
      "  from relu_unstable(x) in Main at In[83]:1\n",
      "Arguments\n",
      "  #self#\u001b[36m::Core.Const(relu_unstable)\u001b[39m\n",
      "  x\u001b[36m::Float64\u001b[39m\n",
      "Body\u001b[91m\u001b[1m::Union{Float64, Int64}\u001b[22m\u001b[39m\n",
      "\u001b[90m1 ─\u001b[39m %1 = (x > 0)\u001b[36m::Bool\u001b[39m\n",
      "\u001b[90m└──\u001b[39m      goto #3 if not %1\n",
      "\u001b[90m2 ─\u001b[39m      return x\n",
      "\u001b[90m3 ─\u001b[39m      return 0\n",
      "\n"
     ]
    }
   ],
   "source": [
    "@code_warntype relu_unstable(1.0)"
   ]
  },
  {
   "cell_type": "code",
   "execution_count": 88,
   "id": "f2582ab3",
   "metadata": {},
   "outputs": [
    {
     "data": {
      "text/plain": [
       "relu (generic function with 1 method)"
      ]
     },
     "execution_count": 88,
     "metadata": {},
     "output_type": "execute_result"
    }
   ],
   "source": [
    "function relu(x)\n",
    "    if x > 0\n",
    "        return x\n",
    "    else\n",
    "        return zero(x)\n",
    "    end\n",
    "end"
   ]
  },
  {
   "cell_type": "code",
   "execution_count": 90,
   "id": "75b2a6af",
   "metadata": {},
   "outputs": [
    {
     "name": "stdout",
     "output_type": "stream",
     "text": [
      "MethodInstance for relu(::Float64)\n",
      "  from relu(x) in Main at In[88]:1\n",
      "Arguments\n",
      "  #self#\u001b[36m::Core.Const(relu)\u001b[39m\n",
      "  x\u001b[36m::Float64\u001b[39m\n",
      "Body\u001b[36m::Float64\u001b[39m\n",
      "\u001b[90m1 ─\u001b[39m %1 = (x > 0)\u001b[36m::Bool\u001b[39m\n",
      "\u001b[90m└──\u001b[39m      goto #3 if not %1\n",
      "\u001b[90m2 ─\u001b[39m      return x\n",
      "\u001b[90m3 ─\u001b[39m %4 = Main.zero(x)\u001b[36m::Core.Const(0.0)\u001b[39m\n",
      "\u001b[90m└──\u001b[39m      return %4\n",
      "\n"
     ]
    }
   ],
   "source": [
    "@code_warntype relu(1.0)"
   ]
  },
  {
   "cell_type": "code",
   "execution_count": null,
   "id": "d7a90b58",
   "metadata": {},
   "outputs": [],
   "source": [
    "relu_easy(x) = max(x, 0)"
   ]
  },
  {
   "cell_type": "code",
   "execution_count": 101,
   "id": "01b4dc3d",
   "metadata": {},
   "outputs": [
    {
     "data": {
      "text/plain": [
       "h (generic function with 1 method)"
      ]
     },
     "execution_count": 101,
     "metadata": {},
     "output_type": "execute_result"
    }
   ],
   "source": [
    "function h(a, b)\n",
    "    return a + b\n",
    "end"
   ]
  },
  {
   "cell_type": "code",
   "execution_count": 102,
   "id": "7c238940",
   "metadata": {},
   "outputs": [
    {
     "data": {
      "text/html": [
       "# 1 method for generic function <b>h</b>:<ul><li> h(a, b) in Main at In[101]:1</li> </ul>"
      ],
      "text/plain": [
       "# 1 method for generic function \"h\":\n",
       "[1] h(a, b) in Main at In[101]:1"
      ]
     },
     "execution_count": 102,
     "metadata": {},
     "output_type": "execute_result"
    }
   ],
   "source": [
    "methods(h)"
   ]
  },
  {
   "cell_type": "code",
   "execution_count": 103,
   "id": "18fe6a3c",
   "metadata": {},
   "outputs": [
    {
     "data": {
      "text/plain": [
       "h (generic function with 2 methods)"
      ]
     },
     "execution_count": 103,
     "metadata": {},
     "output_type": "execute_result"
    }
   ],
   "source": [
    "function h(a, b, c=2)\n",
    "    return a * c - b\n",
    "end"
   ]
  },
  {
   "cell_type": "markdown",
   "id": "cc775fd1",
   "metadata": {},
   "source": [
    "```julia\n",
    "function h(a, b)\n",
    "    reurn a * 2 - b\n",
    "end\n",
    "\n",
    "function h(a, b, c)\n",
    "    return a * c - b\n",
    "end\n",
    "```"
   ]
  },
  {
   "cell_type": "code",
   "execution_count": null,
   "id": "fec8c1fa",
   "metadata": {},
   "outputs": [],
   "source": []
  },
  {
   "cell_type": "markdown",
   "id": "19e92ddc",
   "metadata": {},
   "source": [
    "## Metaprogramming"
   ]
  },
  {
   "cell_type": "markdown",
   "id": "08325958",
   "metadata": {},
   "source": [
    "Two types are important for metaprogramming\n",
    " - Symbols\n",
    " - Expressions"
   ]
  },
  {
   "cell_type": "code",
   "execution_count": 104,
   "id": "71ca850d",
   "metadata": {},
   "outputs": [
    {
     "data": {
      "text/plain": [
       ":a"
      ]
     },
     "execution_count": 104,
     "metadata": {},
     "output_type": "execute_result"
    }
   ],
   "source": [
    "a = :a"
   ]
  },
  {
   "cell_type": "code",
   "execution_count": 105,
   "id": "10b1cfe3",
   "metadata": {},
   "outputs": [
    {
     "data": {
      "text/plain": [
       ":(x + 1)"
      ]
     },
     "execution_count": 105,
     "metadata": {},
     "output_type": "execute_result"
    }
   ],
   "source": [
    "ex = :(x + 1)"
   ]
  },
  {
   "cell_type": "code",
   "execution_count": 106,
   "id": "617c3523",
   "metadata": {},
   "outputs": [
    {
     "data": {
      "text/plain": [
       "Expr"
      ]
     },
     "execution_count": 106,
     "metadata": {},
     "output_type": "execute_result"
    }
   ],
   "source": [
    "typeof(ex)"
   ]
  },
  {
   "cell_type": "code",
   "execution_count": 107,
   "id": "da3be8e1",
   "metadata": {},
   "outputs": [
    {
     "name": "stdout",
     "output_type": "stream",
     "text": [
      "Expr\n",
      "  head: Symbol call\n",
      "  args: Array{Any}((3,))\n",
      "    1: Symbol +\n",
      "    2: Symbol x\n",
      "    3: Int64 1\n"
     ]
    }
   ],
   "source": [
    "dump(ex)"
   ]
  },
  {
   "cell_type": "code",
   "execution_count": 110,
   "id": "4988bfd9",
   "metadata": {},
   "outputs": [
    {
     "data": {
      "text/plain": [
       ":(if x > 0\n",
       "      \u001b[90m#= In[110]:2 =#\u001b[39m\n",
       "      x + 1\n",
       "  else\n",
       "      \u001b[90m#= In[110]:4 =#\u001b[39m\n",
       "      x + 2\n",
       "  end)"
      ]
     },
     "execution_count": 110,
     "metadata": {},
     "output_type": "execute_result"
    }
   ],
   "source": [
    "mycode = :(if x > 0\n",
    "    x + 1\n",
    "    else \n",
    "    x + 2\n",
    "    end)"
   ]
  },
  {
   "cell_type": "code",
   "execution_count": 111,
   "id": "fa21f30f",
   "metadata": {},
   "outputs": [
    {
     "name": "stdout",
     "output_type": "stream",
     "text": [
      "Expr\n",
      "  head: Symbol if\n",
      "  args: Array{Any}((3,))\n",
      "    1: Expr\n",
      "      head: Symbol call\n",
      "      args: Array{Any}((3,))\n",
      "        1: Symbol >\n",
      "        2: Symbol x\n",
      "        3: Int64 0\n",
      "    2: Expr\n",
      "      head: Symbol block\n",
      "      args: Array{Any}((2,))\n",
      "        1: LineNumberNode\n",
      "          line: Int64 2\n",
      "          file: Symbol In[110]\n",
      "        2: Expr\n",
      "          head: Symbol call\n",
      "          args: Array{Any}((3,))\n",
      "            1: Symbol +\n",
      "            2: Symbol x\n",
      "            3: Int64 1\n",
      "    3: Expr\n",
      "      head: Symbol block\n",
      "      args: Array{Any}((2,))\n",
      "        1: LineNumberNode\n",
      "          line: Int64 4\n",
      "          file: Symbol In[110]\n",
      "        2: Expr\n",
      "          head: Symbol call\n",
      "          args: Array{Any}((3,))\n",
      "            1: Symbol +\n",
      "            2: Symbol x\n",
      "            3: Int64 2\n"
     ]
    }
   ],
   "source": [
    "dump(mycode)"
   ]
  },
  {
   "cell_type": "markdown",
   "id": "b068d46c",
   "metadata": {},
   "source": [
    "metaprogramming\n",
    "- take julia code as expression as input\n",
    "- do whatever you want to it, by modifying the AST\n",
    "- return and evaluate the new expression"
   ]
  },
  {
   "cell_type": "code",
   "execution_count": 112,
   "id": "d9be8fec",
   "metadata": {},
   "outputs": [
    {
     "data": {
      "text/plain": [
       "@macroname (macro with 1 method)"
      ]
     },
     "execution_count": 112,
     "metadata": {},
     "output_type": "execute_result"
    }
   ],
   "source": [
    "macro macroname(a, b, c)\n",
    "   return _macroname(a, b, c)\n",
    "end"
   ]
  },
  {
   "cell_type": "code",
   "execution_count": 116,
   "id": "e491c627",
   "metadata": {},
   "outputs": [
    {
     "data": {
      "text/plain": [
       "_macroname (generic function with 1 method)"
      ]
     },
     "execution_count": 116,
     "metadata": {},
     "output_type": "execute_result"
    }
   ],
   "source": [
    "function _macroname(a, b, c)\n",
    "  # it must reutrn an expression\n",
    "  return :($a + $b + $c)\n",
    "end"
   ]
  },
  {
   "cell_type": "code",
   "execution_count": 117,
   "id": "74268abe",
   "metadata": {},
   "outputs": [
    {
     "data": {
      "text/plain": [
       ":(1 + 2 + 3)"
      ]
     },
     "execution_count": 117,
     "metadata": {},
     "output_type": "execute_result"
    }
   ],
   "source": [
    "_macroname(1, 2, 3)"
   ]
  },
  {
   "cell_type": "code",
   "execution_count": 118,
   "id": "30abcbf2",
   "metadata": {},
   "outputs": [
    {
     "data": {
      "text/plain": [
       "6"
      ]
     },
     "execution_count": 118,
     "metadata": {},
     "output_type": "execute_result"
    }
   ],
   "source": [
    "@macroname 1 2 3"
   ]
  },
  {
   "cell_type": "code",
   "execution_count": 119,
   "id": "26c82924",
   "metadata": {},
   "outputs": [
    {
     "data": {
      "text/plain": [
       "1"
      ]
     },
     "execution_count": 119,
     "metadata": {},
     "output_type": "execute_result"
    }
   ],
   "source": [
    "a = 1"
   ]
  },
  {
   "cell_type": "code",
   "execution_count": 120,
   "id": "fc5068b5",
   "metadata": {},
   "outputs": [
    {
     "name": "stdout",
     "output_type": "stream",
     "text": [
      "a = 1\n"
     ]
    },
    {
     "data": {
      "text/plain": [
       "1"
      ]
     },
     "execution_count": 120,
     "metadata": {},
     "output_type": "execute_result"
    }
   ],
   "source": [
    "@show a"
   ]
  },
  {
   "cell_type": "code",
   "execution_count": 121,
   "id": "136dd37b",
   "metadata": {},
   "outputs": [
    {
     "data": {
      "text/plain": [
       "quote\n",
       "    Base.println(\"a = \", Base.repr(begin\n",
       "                \u001b[90m#= show.jl:1047 =#\u001b[39m\n",
       "                local var\"#47#value\" = a\n",
       "            end))\n",
       "    var\"#47#value\"\n",
       "end"
      ]
     },
     "execution_count": 121,
     "metadata": {},
     "output_type": "execute_result"
    }
   ],
   "source": [
    "@macroexpand @show a"
   ]
  },
  {
   "cell_type": "code",
   "execution_count": 124,
   "id": "cd8455df",
   "metadata": {},
   "outputs": [],
   "source": [
    "struct MyStruct\n",
    "    x::Int\n",
    "end\n",
    "\n",
    "Base.:+(x::MyStruct, y::MyStruct) = MyStruct(x.x + y.x)\n",
    "Base.:-(x::MyStruct, y::MyStruct) = MyStruct(x.x - y.x)\n",
    "Base.:*(x::MyStruct, y::MyStruct) = MyStruct(x.x * y.x)"
   ]
  },
  {
   "cell_type": "code",
   "execution_count": 125,
   "id": "0bfb0c74",
   "metadata": {},
   "outputs": [
    {
     "data": {
      "text/plain": [
       "MyStruct(3)"
      ]
     },
     "execution_count": 125,
     "metadata": {},
     "output_type": "execute_result"
    }
   ],
   "source": [
    "MyStruct(1) + MyStruct(2)"
   ]
  },
  {
   "cell_type": "code",
   "execution_count": 130,
   "id": "83da15da",
   "metadata": {},
   "outputs": [],
   "source": [
    "struct MyStruct2\n",
    "    x::Int\n",
    "end\n",
    "\n",
    "for op in (:+, :-, :*)\n",
    "    @eval Base.$op(x::MyStruct2, y::MyStruct2) = MyStruct2($op(x.x, y.x))\n",
    "end\n",
    "\n"
   ]
  },
  {
   "cell_type": "code",
   "execution_count": 131,
   "id": "79654ca3",
   "metadata": {},
   "outputs": [
    {
     "data": {
      "text/plain": [
       "MyStruct2(4)"
      ]
     },
     "execution_count": 131,
     "metadata": {},
     "output_type": "execute_result"
    }
   ],
   "source": [
    "MyStruct2(1) + MyStruct2(3)"
   ]
  },
  {
   "cell_type": "code",
   "execution_count": null,
   "id": "45246d14",
   "metadata": {},
   "outputs": [],
   "source": []
  }
 ],
 "metadata": {
  "kernelspec": {
   "display_name": "Julia 1.8.2",
   "language": "julia",
   "name": "julia-1.8"
  },
  "language_info": {
   "file_extension": ".jl",
   "mimetype": "application/julia",
   "name": "julia",
   "version": "1.8.2"
  }
 },
 "nbformat": 4,
 "nbformat_minor": 5
}
