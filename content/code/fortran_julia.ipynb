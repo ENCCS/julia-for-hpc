{
 "cells": [
  {
   "cell_type": "markdown",
   "id": "72d7bf27",
   "metadata": {},
   "source": [
    "# Examples for the *Interfacing Julia with Fortran*"
   ]
  },
  {
   "cell_type": "markdown",
   "id": "eaa1c409",
   "metadata": {},
   "source": [
    "## 1. Call the *add* Fortran function"
   ]
  },
  {
   "cell_type": "code",
   "execution_count": 1,
   "id": "11ebe1b2",
   "metadata": {
    "scrolled": true
   },
   "outputs": [
    {
     "data": {
      "text/plain": [
       "4.6"
      ]
     },
     "execution_count": 1,
     "metadata": {},
     "output_type": "execute_result"
    }
   ],
   "source": [
    "ccall((:__fortran_julia_MOD_add, \"fortran_julia.so\"), Float64, (Ref{Float64}, Ref{Float64}), 1.1, 3.5)"
   ]
  },
  {
   "cell_type": "code",
   "execution_count": 2,
   "id": "ed7cf653",
   "metadata": {},
   "outputs": [
    {
     "data": {
      "text/plain": [
       "add (generic function with 1 method)"
      ]
     },
     "execution_count": 2,
     "metadata": {},
     "output_type": "execute_result"
    }
   ],
   "source": [
    "function add(a::Float64, b::Float64)\n",
    "    ccall((:__fortran_julia_MOD_add, \"fortran_julia.so\"), Float64, (Ref{Float64}, Ref{Float64}), a, b)\n",
    "end"
   ]
  },
  {
   "cell_type": "code",
   "execution_count": 3,
   "id": "cecc6cb3",
   "metadata": {},
   "outputs": [
    {
     "data": {
      "text/plain": [
       "10.6"
      ]
     },
     "execution_count": 3,
     "metadata": {},
     "output_type": "execute_result"
    }
   ],
   "source": [
    "add(6.7, 3.9)"
   ]
  },
  {
   "cell_type": "markdown",
   "id": "aa7a5774",
   "metadata": {},
   "source": [
    "## 2. The *addsub* Fortran subroutine"
   ]
  },
  {
   "cell_type": "code",
   "execution_count": 4,
   "id": "d2be4d32",
   "metadata": {},
   "outputs": [
    {
     "data": {
      "text/plain": [
       "addsub (generic function with 1 method)"
      ]
     },
     "execution_count": 4,
     "metadata": {},
     "output_type": "execute_result"
    }
   ],
   "source": [
    "function addsub(a::Float64, b::Float64)\n",
    "    x = Ref{Float64}()\n",
    "    y = Ref{Float64}()\n",
    "    ccall((:__fortran_julia_MOD_addsub, \"fortran_julia.so\"), Nothing, (Ref{Float64}, Ref{Float64}, Ref{Float64}, Ref{Float64}), x, y, a, b)\n",
    "    x[], y[]\n",
    "end"
   ]
  },
  {
   "cell_type": "code",
   "execution_count": 9,
   "id": "e549dec4",
   "metadata": {},
   "outputs": [
    {
     "data": {
      "text/plain": [
       "(7.4, 4.4)"
      ]
     },
     "execution_count": 9,
     "metadata": {},
     "output_type": "execute_result"
    }
   ],
   "source": [
    "addsub(5.9, 1.5)"
   ]
  },
  {
   "cell_type": "markdown",
   "id": "033ab1cf",
   "metadata": {},
   "source": [
    "## 3. The *concatenate* Fortran subroutine"
   ]
  },
  {
   "cell_type": "code",
   "execution_count": 11,
   "id": "ca524059",
   "metadata": {},
   "outputs": [
    {
     "data": {
      "text/plain": [
       "concatenate (generic function with 1 method)"
      ]
     },
     "execution_count": 11,
     "metadata": {},
     "output_type": "execute_result"
    }
   ],
   "source": [
    "function concatenate(a::String, b::String)\n",
    "    x = Vector{UInt8}(undef, sizeof(a) + sizeof(b))\n",
    "    ccall((:__fortran_julia_MOD_concatenate, \"fortran_julia.so\"), Nothing, (Ref{UInt8}, Ref{UInt8}, Ptr{UInt8}, UInt, UInt, UInt), x, Vector{UInt8}(a), b, sizeof(x), sizeof(a), sizeof(b))\n",
    "    String(x)\n",
    "end"
   ]
  },
  {
   "cell_type": "code",
   "execution_count": 12,
   "id": "753cb820",
   "metadata": {},
   "outputs": [
    {
     "data": {
      "text/plain": [
       "\"Hello Julia!!!\""
      ]
     },
     "execution_count": 12,
     "metadata": {},
     "output_type": "execute_result"
    }
   ],
   "source": [
    "concatenate(\"Hello \", \"Julia!!!\")"
   ]
  },
  {
   "cell_type": "markdown",
   "id": "65de5469",
   "metadata": {},
   "source": [
    "## 4. The *add_array* Fortran subroutine"
   ]
  },
  {
   "cell_type": "code",
   "execution_count": 13,
   "id": "15905a8e",
   "metadata": {},
   "outputs": [
    {
     "data": {
      "text/plain": [
       "add_array (generic function with 1 method)"
      ]
     },
     "execution_count": 13,
     "metadata": {},
     "output_type": "execute_result"
    }
   ],
   "source": [
    "function add_array(a::Array{Float64,1}, b::Array{Float64,1})\n",
    "    x = Array{Float64,1}(undef, length(a))\n",
    "    ccall((:__fortran_julia_MOD_add_array, \"fortran_julia.so\"), Nothing, (Ref{Float64}, Ref{Float64}, Ref{Float64}, Ref{UInt32}), x, a, b, length(x))\n",
    "    x\n",
    "end"
   ]
  },
  {
   "cell_type": "code",
   "execution_count": 14,
   "id": "a3ebb355",
   "metadata": {},
   "outputs": [
    {
     "data": {
      "text/plain": [
       "4-element Vector{Float64}:\n",
       " -1.6\n",
       "  1.0\n",
       "  2.7\n",
       "  7.0"
      ]
     },
     "execution_count": 14,
     "metadata": {},
     "output_type": "execute_result"
    }
   ],
   "source": [
    "add_array([0.2, 1.3, 1.6, 4.6], [-1.8, -0.3, 1.1, 2.4])"
   ]
  },
  {
   "cell_type": "code",
   "execution_count": null,
   "id": "1b9129fe",
   "metadata": {},
   "outputs": [],
   "source": []
  }
 ],
 "metadata": {
  "kernelspec": {
   "display_name": "Julia 1.9.0",
   "language": "julia",
   "name": "julia-1.9"
  },
  "language_info": {
   "file_extension": ".jl",
   "mimetype": "application/julia",
   "name": "julia",
   "version": "1.9.0"
  }
 },
 "nbformat": 4,
 "nbformat_minor": 5
}
