{
 "cells": [
  {
   "cell_type": "markdown",
   "id": "3f66e908-d79a-4a27-aec7-a51edc4944ef",
   "metadata": {},
   "source": [
    "## Interfacing Julia with C"
   ]
  },
  {
   "cell_type": "code",
   "execution_count": 1,
   "id": "b178c69f-4c49-4f6d-b414-abc6b75c6de5",
   "metadata": {},
   "outputs": [
    {
     "data": {
      "text/plain": [
       "8.0"
      ]
     },
     "execution_count": 1,
     "metadata": {},
     "output_type": "execute_result"
    }
   ],
   "source": [
    "ccall((:sqrt, \"libm\"), Float64, (Float64,), 64.0)"
   ]
  },
  {
   "cell_type": "code",
   "execution_count": 2,
   "id": "92dc1f51-97d9-4b1d-acb9-7c5a566e1755",
   "metadata": {},
   "outputs": [
    {
     "data": {
      "text/plain": [
       "9.0"
      ]
     },
     "execution_count": 2,
     "metadata": {},
     "output_type": "execute_result"
    }
   ],
   "source": [
    "csqrt(x) = ccall((:sqrt, \"libm\"), Float64, (Float64,), x);\n",
    "csqrt(81.0)"
   ]
  },
  {
   "cell_type": "code",
   "execution_count": 3,
   "id": "90ba75ed-6f47-4555-ae50-e99123999ac9",
   "metadata": {},
   "outputs": [
    {
     "data": {
      "text/plain": [
       "3.0"
      ]
     },
     "execution_count": 3,
     "metadata": {},
     "output_type": "execute_result"
    }
   ],
   "source": [
    "# define an array in Julia\n",
    "arr = [1, 2, 3, 4, 5]\n",
    "\n",
    "# length of the array\n",
    "n = length(arr)\n",
    "\n",
    "# We need to convert the inputs because Julia integer type can be 32 or 64-bit\n",
    "arr_c = convert(Vector{Clong}, arr)\n",
    "n_c = convert(Clong, length(arr))\n",
    "\n",
    "# Call the shared library\n",
    "ccall((:mean, \"./mean.so\"), Cdouble, (Ptr{Clong}, Clong), arr_c, n_c)"
   ]
  },
  {
   "cell_type": "code",
   "execution_count": 4,
   "id": "7de905fd-456f-4705-b018-e061ce1738d3",
   "metadata": {},
   "outputs": [
    {
     "data": {
      "text/plain": [
       "mean (generic function with 1 method)"
      ]
     },
     "execution_count": 4,
     "metadata": {},
     "output_type": "execute_result"
    }
   ],
   "source": [
    "function mean(arr::Vector{Int64}, n::Int64)\n",
    "    ccall((:mean, \"./mean.so\"), Cdouble, (Ptr{Clong}, Clong), arr, n)\n",
    "end"
   ]
  },
  {
   "cell_type": "code",
   "execution_count": 5,
   "id": "d78f1ca6-878d-46d8-9167-c21526133654",
   "metadata": {},
   "outputs": [
    {
     "data": {
      "text/plain": [
       "4.0"
      ]
     },
     "execution_count": 5,
     "metadata": {},
     "output_type": "execute_result"
    }
   ],
   "source": [
    "mean([1, 2, 3, 4, 5, 6, 7], 7)"
   ]
  },
  {
   "cell_type": "code",
   "execution_count": 6,
   "id": "acb69a62-d2c9-44af-a9f2-bf10a97952b9",
   "metadata": {},
   "outputs": [
    {
     "data": {
      "text/plain": [
       "2.5"
      ]
     },
     "execution_count": 6,
     "metadata": {},
     "output_type": "execute_result"
    }
   ],
   "source": [
    "mean([1, 2, 3, 4, 5, 6, 7], 4) # average of the first four items"
   ]
  },
  {
   "cell_type": "code",
   "execution_count": 7,
   "id": "79a00a91-7b97-4115-8b76-178e3c92e28e",
   "metadata": {},
   "outputs": [
    {
     "data": {
      "text/plain": [
       "9.107797863e8"
      ]
     },
     "execution_count": 7,
     "metadata": {},
     "output_type": "execute_result"
    }
   ],
   "source": [
    "mean([1, 2, 3, 4, 5, 6, 7], 10) # wrong result!!!"
   ]
  },
  {
   "cell_type": "code",
   "execution_count": 8,
   "id": "91c28ff5-2cc7-4f4d-ad4f-d1a613b27b07",
   "metadata": {},
   "outputs": [
    {
     "data": {
      "text/plain": [
       "mean (generic function with 2 methods)"
      ]
     },
     "execution_count": 8,
     "metadata": {},
     "output_type": "execute_result"
    }
   ],
   "source": [
    "function mean(arr::Vector{Int64})\n",
    "    mean(convert(Vector{Clong}, arr), convert(Clong, length(arr)))\n",
    "end"
   ]
  },
  {
   "cell_type": "code",
   "execution_count": 9,
   "id": "e39b5470-5ada-4b23-9826-d84e4fb3302f",
   "metadata": {},
   "outputs": [
    {
     "data": {
      "text/plain": [
       "4.0"
      ]
     },
     "execution_count": 9,
     "metadata": {},
     "output_type": "execute_result"
    }
   ],
   "source": [
    "mean([1, 2, 3, 4, 5, 6, 7])"
   ]
  },
  {
   "cell_type": "code",
   "execution_count": null,
   "id": "395769cb-3a65-4940-b6ba-3a2fd48038e9",
   "metadata": {},
   "outputs": [],
   "source": []
  }
 ],
 "metadata": {
  "kernelspec": {
   "display_name": "Julia 1.9.3",
   "language": "julia",
   "name": "julia-1.9"
  },
  "language_info": {
   "file_extension": ".jl",
   "mimetype": "application/julia",
   "name": "julia",
   "version": "1.9.3"
  }
 },
 "nbformat": 4,
 "nbformat_minor": 5
}
