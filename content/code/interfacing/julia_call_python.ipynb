{
 "cells": [
  {
   "cell_type": "markdown",
   "id": "5636cac9-f696-413d-9bc8-c3e3ebc062c0",
   "metadata": {},
   "source": [
    "## Calling Python from Julia"
   ]
  },
  {
   "cell_type": "code",
   "execution_count": 1,
   "id": "9fbb7314-a3b1-463f-aba9-934637399850",
   "metadata": {},
   "outputs": [
    {
     "name": "stderr",
     "output_type": "stream",
     "text": [
      "\u001b[32m\u001b[1m   Resolving\u001b[22m\u001b[39m package versions...\n",
      "\u001b[32m\u001b[1m  No Changes\u001b[22m\u001b[39m to `~/07_github_proj/julia-for-hpc/Project.toml`\n",
      "\u001b[32m\u001b[1m  No Changes\u001b[22m\u001b[39m to `~/07_github_proj/julia-for-hpc/Manifest.toml`\n"
     ]
    }
   ],
   "source": [
    "using Pkg\n",
    "Pkg.add(\"PyCall\")"
   ]
  },
  {
   "cell_type": "code",
   "execution_count": 2,
   "id": "5f9eba05-7595-4d7c-866a-0f37cb635739",
   "metadata": {},
   "outputs": [
    {
     "name": "stdout",
     "output_type": "stream",
     "text": [
      "0.7071067811865475\n"
     ]
    }
   ],
   "source": [
    "using PyCall\n",
    "math = pyimport(\"math\")\n",
    "println(math.sin(math.pi / 4))"
   ]
  },
  {
   "cell_type": "code",
   "execution_count": 3,
   "id": "aba9b694-393a-4952-a9e7-777992ac7a99",
   "metadata": {},
   "outputs": [],
   "source": [
    "py\"\"\"\n",
    "def sumMyArgs(a,b):\n",
    "    return a+b\n",
    "def getNElement(n):\n",
    "    c = [5,4,3,2,1,6]\n",
    "    return c[n]\n",
    "\"\"\""
   ]
  },
  {
   "cell_type": "code",
   "execution_count": 4,
   "id": "2f5bb298-5fc2-407b-b0d1-1a326232f68c",
   "metadata": {},
   "outputs": [
    {
     "data": {
      "text/plain": [
       "5"
      ]
     },
     "execution_count": 4,
     "metadata": {},
     "output_type": "execute_result"
    }
   ],
   "source": [
    "py\"sumMyArgs\"(1,4) # 5"
   ]
  },
  {
   "cell_type": "code",
   "execution_count": 5,
   "id": "0341369e-7aab-46e4-acfd-1481661f2992",
   "metadata": {},
   "outputs": [
    {
     "data": {
      "text/plain": [
       "2-element Vector{Int64}:\n",
       "  8\n",
       " 10"
      ]
     },
     "execution_count": 5,
     "metadata": {},
     "output_type": "execute_result"
    }
   ],
   "source": [
    "py\"sumMyArgs\"([3,4],[5,6]) # 2-element Vector{Int64}: 8 and 10"
   ]
  },
  {
   "cell_type": "code",
   "execution_count": 6,
   "id": "a1c7d92b-bd58-4a58-a667-b7318593f13c",
   "metadata": {},
   "outputs": [
    {
     "data": {
      "text/plain": [
       "2-element Vector{Int64}:\n",
       " 10\n",
       " 11"
      ]
     },
     "execution_count": 6,
     "metadata": {},
     "output_type": "execute_result"
    }
   ],
   "source": [
    "py\"sumMyArgs\"([3,4],7) # 2-element Vector{Int64}: 10 and 11"
   ]
  },
  {
   "cell_type": "code",
   "execution_count": 7,
   "id": "6d780a93-2446-4db6-bcba-30afc7b68bb3",
   "metadata": {},
   "outputs": [
    {
     "data": {
      "text/plain": [
       "4"
      ]
     },
     "execution_count": 7,
     "metadata": {},
     "output_type": "execute_result"
    }
   ],
   "source": [
    "py\"getNElement\"(1) # 4"
   ]
  },
  {
   "cell_type": "code",
   "execution_count": 8,
   "id": "b7aecc40-7467-4c09-b2a7-b8e0d82e49cf",
   "metadata": {},
   "outputs": [
    {
     "data": {
      "text/plain": [
       "5"
      ]
     },
     "execution_count": 8,
     "metadata": {},
     "output_type": "execute_result"
    }
   ],
   "source": [
    "py\"getNElement\"(0) # 5"
   ]
  },
  {
   "cell_type": "code",
   "execution_count": 9,
   "id": "de8995a0-5b46-478b-acd0-938d75ae79b6",
   "metadata": {},
   "outputs": [
    {
     "data": {
      "text/plain": [
       "6"
      ]
     },
     "execution_count": 9,
     "metadata": {},
     "output_type": "execute_result"
    }
   ],
   "source": [
    "py\"getNElement\"(5) # 6"
   ]
  },
  {
   "cell_type": "code",
   "execution_count": 10,
   "id": "14fd7727-02d8-489c-95ad-190e9c3a2380",
   "metadata": {},
   "outputs": [
    {
     "ename": "LoadError",
     "evalue": "PyError ($(Expr(:escape, :(ccall(#= /Users/yonglei/.julia/packages/PyCall/1gn3u/src/pyfncall.jl:43 =# @pysym(:PyObject_Call), PyPtr, (PyPtr, PyPtr, PyPtr), o, pyargsptr, kw))))) <class 'IndexError'>\nIndexError('list index out of range')\n  File \"/Users/yonglei/.julia/packages/PyCall/1gn3u/src/pyeval.jl\", line 5, in getNElement\n    const _namespaces = Dict{Module,PyDict{String,PyObject,true}}()\n",
     "output_type": "error",
     "traceback": [
      "PyError ($(Expr(:escape, :(ccall(#= /Users/yonglei/.julia/packages/PyCall/1gn3u/src/pyfncall.jl:43 =# @pysym(:PyObject_Call), PyPtr, (PyPtr, PyPtr, PyPtr), o, pyargsptr, kw))))) <class 'IndexError'>\nIndexError('list index out of range')\n  File \"/Users/yonglei/.julia/packages/PyCall/1gn3u/src/pyeval.jl\", line 5, in getNElement\n    const _namespaces = Dict{Module,PyDict{String,PyObject,true}}()\n",
      "",
      "Stacktrace:",
      "  [1] pyerr_check",
      "    @ ~/.julia/packages/PyCall/1gn3u/src/exception.jl:75 [inlined]",
      "  [2] pyerr_check",
      "    @ ~/.julia/packages/PyCall/1gn3u/src/exception.jl:79 [inlined]",
      "  [3] _handle_error(msg::String)",
      "    @ PyCall ~/.julia/packages/PyCall/1gn3u/src/exception.jl:96",
      "  [4] macro expansion",
      "    @ ~/.julia/packages/PyCall/1gn3u/src/exception.jl:110 [inlined]",
      "  [5] #107",
      "    @ ~/.julia/packages/PyCall/1gn3u/src/pyfncall.jl:43 [inlined]",
      "  [6] disable_sigint",
      "    @ ./c.jl:473 [inlined]",
      "  [7] __pycall!",
      "    @ ~/.julia/packages/PyCall/1gn3u/src/pyfncall.jl:42 [inlined]",
      "  [8] _pycall!(ret::PyObject, o::PyObject, args::Tuple{Int64}, nargs::Int64, kw::Ptr{Nothing})",
      "    @ PyCall ~/.julia/packages/PyCall/1gn3u/src/pyfncall.jl:29",
      "  [9] _pycall!(ret::PyObject, o::PyObject, args::Tuple{Int64}, kwargs::Base.Pairs{Symbol, Union{}, Tuple{}, NamedTuple{(), Tuple{}}})",
      "    @ PyCall ~/.julia/packages/PyCall/1gn3u/src/pyfncall.jl:11",
      " [10] (::PyObject)(::Int64, ::Vararg{Int64}; kwargs::Base.Pairs{Symbol, Union{}, Tuple{}, NamedTuple{(), Tuple{}}})",
      "    @ PyCall ~/.julia/packages/PyCall/1gn3u/src/pyfncall.jl:86",
      " [11] (::PyObject)(::Int64, ::Vararg{Int64})",
      "    @ PyCall ~/.julia/packages/PyCall/1gn3u/src/pyfncall.jl:86",
      " [12] top-level scope",
      "    @ ~/.julia/packages/PyCall/1gn3u/src/pyeval.jl:232"
     ]
    }
   ],
   "source": [
    "py\"getNElement\"(6) # list index out of range"
   ]
  },
  {
   "cell_type": "code",
   "execution_count": 11,
   "id": "83625bdc-d9ac-4fdc-bf6a-6a243a6c6047",
   "metadata": {},
   "outputs": [
    {
     "data": {
      "text/plain": [
       "PyObject <module 'numpy' from '/Users/yonglei/.julia/conda/3/aarch64/lib/python3.10/site-packages/numpy/__init__.py'>"
      ]
     },
     "execution_count": 11,
     "metadata": {},
     "output_type": "execute_result"
    }
   ],
   "source": [
    "np = pyimport(\"numpy\")"
   ]
  },
  {
   "cell_type": "code",
   "execution_count": 12,
   "id": "3998049d-f5e3-42bb-b09c-64a74e5127da",
   "metadata": {},
   "outputs": [
    {
     "data": {
      "text/plain": [
       "2×3 Matrix{Float64}:\n",
       " 0.790297  0.574635  0.76561\n",
       " 0.317361  0.512991  0.76415"
      ]
     },
     "execution_count": 12,
     "metadata": {},
     "output_type": "execute_result"
    }
   ],
   "source": [
    "a = np.random.rand(2, 3)"
   ]
  },
  {
   "cell_type": "code",
   "execution_count": 13,
   "id": "ee6808bf-1cae-40dc-928b-632308848857",
   "metadata": {},
   "outputs": [
    {
     "data": {
      "text/plain": [
       "2×3 Matrix{Float64}:\n",
       " 2.20405  1.77648  2.15031\n",
       " 1.3735   1.67028  2.14717"
      ]
     },
     "execution_count": 13,
     "metadata": {},
     "output_type": "execute_result"
    }
   ],
   "source": [
    "exp_a = np.exp(a)"
   ]
  },
  {
   "cell_type": "code",
   "execution_count": null,
   "id": "da86e196-26e3-4030-9787-d313e59a9cd2",
   "metadata": {},
   "outputs": [],
   "source": []
  }
 ],
 "metadata": {
  "kernelspec": {
   "display_name": "Julia 1.9.3",
   "language": "julia",
   "name": "julia-1.9"
  },
  "language_info": {
   "file_extension": ".jl",
   "mimetype": "application/julia",
   "name": "julia",
   "version": "1.9.3"
  }
 },
 "nbformat": 4,
 "nbformat_minor": 5
}
